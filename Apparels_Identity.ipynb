{
  "nbformat": 4,
  "nbformat_minor": 0,
  "metadata": {
    "colab": {
      "name": "Apparels Identity.ipynb",
      "provenance": [],
      "toc_visible": true
    },
    "kernelspec": {
      "name": "python3",
      "display_name": "Python 3"
    },
    "accelerator": "GPU"
  },
  "cells": [
    {
      "cell_type": "markdown",
      "metadata": {
        "id": "xMbM1AUks-6X",
        "colab_type": "text"
      },
      "source": [
        "# Identify the apparels (Fashion MNIST)\n"
      ]
    },
    {
      "cell_type": "code",
      "metadata": {
        "id": "2sx-nT8Nrr7g",
        "colab_type": "code",
        "colab": {
          "base_uri": "https://localhost:8080/",
          "height": 541
        },
        "outputId": "e98a1614-79c5-4f92-d3db-e360b9bcecb4"
      },
      "source": [
        "!pip install tensorflow-gpu==2.0.0-rc0"
      ],
      "execution_count": 1,
      "outputs": [
        {
          "output_type": "stream",
          "text": [
            "Collecting tensorflow-gpu==2.0.0-rc0\n",
            "\u001b[?25l  Downloading https://files.pythonhosted.org/packages/6a/12/8c64cc62149cc21c70c55018502831bbf4d42bd62bed196df7de6830d21b/tensorflow_gpu-2.0.0rc0-cp36-cp36m-manylinux2010_x86_64.whl (380.5MB)\n",
            "\u001b[K     |████████████████████████████████| 380.5MB 43kB/s \n",
            "\u001b[?25hRequirement already satisfied: google-pasta>=0.1.6 in /usr/local/lib/python3.6/dist-packages (from tensorflow-gpu==2.0.0-rc0) (0.2.0)\n",
            "Requirement already satisfied: keras-preprocessing>=1.0.5 in /usr/local/lib/python3.6/dist-packages (from tensorflow-gpu==2.0.0-rc0) (1.1.2)\n",
            "Requirement already satisfied: six>=1.10.0 in /usr/local/lib/python3.6/dist-packages (from tensorflow-gpu==2.0.0-rc0) (1.12.0)\n",
            "Requirement already satisfied: protobuf>=3.6.1 in /usr/local/lib/python3.6/dist-packages (from tensorflow-gpu==2.0.0-rc0) (3.10.0)\n",
            "Requirement already satisfied: termcolor>=1.1.0 in /usr/local/lib/python3.6/dist-packages (from tensorflow-gpu==2.0.0-rc0) (1.1.0)\n",
            "Requirement already satisfied: grpcio>=1.8.6 in /usr/local/lib/python3.6/dist-packages (from tensorflow-gpu==2.0.0-rc0) (1.29.0)\n",
            "Requirement already satisfied: wheel>=0.26 in /usr/local/lib/python3.6/dist-packages (from tensorflow-gpu==2.0.0-rc0) (0.34.2)\n",
            "Requirement already satisfied: absl-py>=0.7.0 in /usr/local/lib/python3.6/dist-packages (from tensorflow-gpu==2.0.0-rc0) (0.9.0)\n",
            "Requirement already satisfied: wrapt>=1.11.1 in /usr/local/lib/python3.6/dist-packages (from tensorflow-gpu==2.0.0-rc0) (1.12.1)\n",
            "Requirement already satisfied: keras-applications>=1.0.8 in /usr/local/lib/python3.6/dist-packages (from tensorflow-gpu==2.0.0-rc0) (1.0.8)\n",
            "Requirement already satisfied: gast>=0.2.0 in /usr/local/lib/python3.6/dist-packages (from tensorflow-gpu==2.0.0-rc0) (0.3.3)\n",
            "Collecting tb-nightly<1.15.0a20190807,>=1.15.0a20190806\n",
            "\u001b[?25l  Downloading https://files.pythonhosted.org/packages/bc/88/24b5fb7280e74c7cf65bde47c171547fd02afb3840cff41bcbe9270650f5/tb_nightly-1.15.0a20190806-py3-none-any.whl (4.3MB)\n",
            "\u001b[K     |████████████████████████████████| 4.3MB 51.6MB/s \n",
            "\u001b[?25hRequirement already satisfied: numpy<2.0,>=1.16.0 in /usr/local/lib/python3.6/dist-packages (from tensorflow-gpu==2.0.0-rc0) (1.18.5)\n",
            "Collecting tf-estimator-nightly<1.14.0.dev2019080602,>=1.14.0.dev2019080601\n",
            "\u001b[?25l  Downloading https://files.pythonhosted.org/packages/21/28/f2a27a62943d5f041e4a6fd404b2d21cb7c59b2242a4e73b03d9ba166552/tf_estimator_nightly-1.14.0.dev2019080601-py2.py3-none-any.whl (501kB)\n",
            "\u001b[K     |████████████████████████████████| 501kB 50.0MB/s \n",
            "\u001b[?25hRequirement already satisfied: astor>=0.6.0 in /usr/local/lib/python3.6/dist-packages (from tensorflow-gpu==2.0.0-rc0) (0.8.1)\n",
            "Requirement already satisfied: opt-einsum>=2.3.2 in /usr/local/lib/python3.6/dist-packages (from tensorflow-gpu==2.0.0-rc0) (3.2.1)\n",
            "Requirement already satisfied: setuptools in /usr/local/lib/python3.6/dist-packages (from protobuf>=3.6.1->tensorflow-gpu==2.0.0-rc0) (47.3.1)\n",
            "Requirement already satisfied: h5py in /usr/local/lib/python3.6/dist-packages (from keras-applications>=1.0.8->tensorflow-gpu==2.0.0-rc0) (2.10.0)\n",
            "Requirement already satisfied: markdown>=2.6.8 in /usr/local/lib/python3.6/dist-packages (from tb-nightly<1.15.0a20190807,>=1.15.0a20190806->tensorflow-gpu==2.0.0-rc0) (3.2.2)\n",
            "Requirement already satisfied: werkzeug>=0.11.15 in /usr/local/lib/python3.6/dist-packages (from tb-nightly<1.15.0a20190807,>=1.15.0a20190806->tensorflow-gpu==2.0.0-rc0) (1.0.1)\n",
            "Requirement already satisfied: importlib-metadata; python_version < \"3.8\" in /usr/local/lib/python3.6/dist-packages (from markdown>=2.6.8->tb-nightly<1.15.0a20190807,>=1.15.0a20190806->tensorflow-gpu==2.0.0-rc0) (1.6.1)\n",
            "Requirement already satisfied: zipp>=0.5 in /usr/local/lib/python3.6/dist-packages (from importlib-metadata; python_version < \"3.8\"->markdown>=2.6.8->tb-nightly<1.15.0a20190807,>=1.15.0a20190806->tensorflow-gpu==2.0.0-rc0) (3.1.0)\n",
            "Installing collected packages: tb-nightly, tf-estimator-nightly, tensorflow-gpu\n"
          ],
          "name": "stdout"
        }
      ]
    },
    {
      "cell_type": "markdown",
      "metadata": {
        "id": "a5iFaUVwuTU1",
        "colab_type": "text"
      },
      "source": [
        "## Importing necessary libraries"
      ]
    },
    {
      "cell_type": "code",
      "metadata": {
        "id": "4696abqEubue",
        "colab_type": "code",
        "colab": {}
      },
      "source": [
        "import numpy as np\n",
        "import pandas as pd\n",
        "import matplotlib.pyplot as plt"
      ],
      "execution_count": 2,
      "outputs": []
    },
    {
      "cell_type": "code",
      "metadata": {
        "id": "Ubj8krvgYBHq",
        "colab_type": "code",
        "colab": {}
      },
      "source": [
        "import tensorflow as tf\n",
        "from tensorflow import keras"
      ],
      "execution_count": 4,
      "outputs": []
    },
    {
      "cell_type": "markdown",
      "metadata": {
        "id": "YaaRLPB0whTn",
        "colab_type": "text"
      },
      "source": [
        "## Importing the dataset"
      ]
    },
    {
      "cell_type": "code",
      "metadata": {
        "id": "6-YksHnjJ-cm",
        "colab_type": "code",
        "colab": {}
      },
      "source": [
        "data = keras.datasets.fashion_mnist"
      ],
      "execution_count": 6,
      "outputs": []
    },
    {
      "cell_type": "code",
      "metadata": {
        "id": "OlyXZPPlLL-E",
        "colab_type": "code",
        "colab": {
          "base_uri": "https://localhost:8080/",
          "height": 151
        },
        "outputId": "88214df7-8b37-44c0-ebff-58d4d0a8fe38"
      },
      "source": [
        "(X_train, Y_train), (X_test, Y_test) = data.load_data()"
      ],
      "execution_count": 8,
      "outputs": [
        {
          "output_type": "stream",
          "text": [
            "Downloading data from https://storage.googleapis.com/tensorflow/tf-keras-datasets/train-labels-idx1-ubyte.gz\n",
            "32768/29515 [=================================] - 0s 0us/step\n",
            "Downloading data from https://storage.googleapis.com/tensorflow/tf-keras-datasets/train-images-idx3-ubyte.gz\n",
            "26427392/26421880 [==============================] - 1s 0us/step\n",
            "Downloading data from https://storage.googleapis.com/tensorflow/tf-keras-datasets/t10k-labels-idx1-ubyte.gz\n",
            "8192/5148 [===============================================] - 0s 0us/step\n",
            "Downloading data from https://storage.googleapis.com/tensorflow/tf-keras-datasets/t10k-images-idx3-ubyte.gz\n",
            "4423680/4422102 [==============================] - 0s 0us/step\n"
          ],
          "name": "stdout"
        }
      ]
    },
    {
      "cell_type": "code",
      "metadata": {
        "id": "9EW3DH9RZqHj",
        "colab_type": "code",
        "colab": {
          "base_uri": "https://localhost:8080/",
          "height": 84
        },
        "outputId": "99308c70-9543-493e-e97a-309082efb551"
      },
      "source": [
        "print(X_train.shape)\n",
        "print(Y_train.shape)\n",
        "print(X_test.shape)\n",
        "print(Y_test.shape)"
      ],
      "execution_count": 9,
      "outputs": [
        {
          "output_type": "stream",
          "text": [
            "(60000, 28, 28)\n",
            "(60000,)\n",
            "(10000, 28, 28)\n",
            "(10000,)\n"
          ],
          "name": "stdout"
        }
      ]
    },
    {
      "cell_type": "markdown",
      "metadata": {
        "id": "KCy6jDmwaBsp",
        "colab_type": "text"
      },
      "source": [
        "Plotting an example\n"
      ]
    },
    {
      "cell_type": "code",
      "metadata": {
        "id": "MwnIc-EsbzZ7",
        "colab_type": "code",
        "colab": {
          "base_uri": "https://localhost:8080/",
          "height": 282
        },
        "outputId": "d52c9071-e2ee-4abd-cf83-c092f4f2235b"
      },
      "source": [
        "plt.figure()\n",
        "plt.imshow(X_train[1])"
      ],
      "execution_count": 11,
      "outputs": [
        {
          "output_type": "execute_result",
          "data": {
            "text/plain": [
              "<matplotlib.image.AxesImage at 0x7f87c6be5588>"
            ]
          },
          "metadata": {
            "tags": []
          },
          "execution_count": 11
        },
        {
          "output_type": "display_data",
          "data": {
            "image/png": "[encoded data removed]",
            "text/plain": [
              "<Figure size 432x288 with 1 Axes>"
            ]
          },
          "metadata": {
            "tags": [],
            "needs_background": "light"
          }
        }
      ]
    },
    {
      "cell_type": "markdown",
      "metadata": {
        "id": "Xz0nX2y7h7jn",
        "colab_type": "text"
      },
      "source": [
        "Data Preprocessing"
      ]
    },
    {
      "cell_type": "code",
      "metadata": {
        "id": "JKSz4bg-h_2E",
        "colab_type": "code",
        "colab": {}
      },
      "source": [
        "X_train = X_train/np.max(X_train)\n",
        "X_test = X_test/np.max(X_test)"
      ],
      "execution_count": 15,
      "outputs": []
    },
    {
      "cell_type": "markdown",
      "metadata": {
        "id": "CHyo8ibYMlHh",
        "colab_type": "text"
      },
      "source": [
        "## CNN initialization"
      ]
    },
    {
      "cell_type": "code",
      "metadata": {
        "id": "UVE_riZqjJNk",
        "colab_type": "code",
        "colab": {}
      },
      "source": [
        "from tensorflow.keras import Sequential\n",
        "from tensorflow.keras.layers import Dense, Flatten"
      ],
      "execution_count": 21,
      "outputs": []
    },
    {
      "cell_type": "code",
      "metadata": {
        "id": "dyXuvkPQMrpu",
        "colab_type": "code",
        "colab": {}
      },
      "source": [
        "model = Sequential()\n",
        "\n",
        "model.add(Flatten(input_shape = X_train[0].shape))\n",
        "model.add(Dense(500, activation='relu'))\n",
        "model.add(Dense(500, activation='relu'))\n",
        "model.add(Dense(200, activation='relu'))\n",
        "model.add(Dense(200, activation='relu'))\n",
        "model.add(Dense(150, activation='relu'))\n",
        "model.add(Dense(150, activation='relu'))\n",
        "model.add(Dense(100, activation='relu'))\n",
        "model.add(Dense(100, activation='relu'))\n",
        "model.add(Dense(50, activation='relu'))\n",
        "model.add(Dense(50, activation='relu'))\n",
        "model.add(Dense(10, activation='softmax'))"
      ],
      "execution_count": 93,
      "outputs": []
    },
    {
      "cell_type": "code",
      "metadata": {
        "id": "d-9VbmvmR-iw",
        "colab_type": "code",
        "colab": {
          "base_uri": "https://localhost:8080/",
          "height": 554
        },
        "outputId": "f7d13dc6-6e90-4479-e37c-99050f0b653b"
      },
      "source": [
        "model.summary()"
      ],
      "execution_count": 94,
      "outputs": [
        {
          "output_type": "stream",
          "text": [
            "Model: \"sequential_11\"\n",
            "_________________________________________________________________\n",
            "Layer (type)                 Output Shape              Param #   \n",
            "=================================================================\n",
            "flatten_10 (Flatten)         (None, 784)               0         \n",
            "_________________________________________________________________\n",
            "dense_76 (Dense)             (None, 500)               392500    \n",
            "_________________________________________________________________\n",
            "dense_77 (Dense)             (None, 500)               250500    \n",
            "_________________________________________________________________\n",
            "dense_78 (Dense)             (None, 200)               100200    \n",
            "_________________________________________________________________\n",
            "dense_79 (Dense)             (None, 200)               40200     \n",
            "_________________________________________________________________\n",
            "dense_80 (Dense)             (None, 150)               30150     \n",
            "_________________________________________________________________\n",
            "dense_81 (Dense)             (None, 150)               22650     \n",
            "_________________________________________________________________\n",
            "dense_82 (Dense)             (None, 100)               15100     \n",
            "_________________________________________________________________\n",
            "dense_83 (Dense)             (None, 100)               10100     \n",
            "_________________________________________________________________\n",
            "dense_84 (Dense)             (None, 50)                5050      \n",
            "_________________________________________________________________\n",
            "dense_85 (Dense)             (None, 50)                2550      \n",
            "_________________________________________________________________\n",
            "dense_86 (Dense)             (None, 10)                510       \n",
            "=================================================================\n",
            "Total params: 869,510\n",
            "Trainable params: 869,510\n",
            "Non-trainable params: 0\n",
            "_________________________________________________________________\n"
          ],
          "name": "stdout"
        }
      ]
    },
    {
      "cell_type": "code",
      "metadata": {
        "id": "IfvmeOgHNQyS",
        "colab_type": "code",
        "colab": {}
      },
      "source": [
        "model.compile(optimizer='adam', loss='sparse_categorical_crossentropy', metrics=['accuracy'])"
      ],
      "execution_count": 95,
      "outputs": []
    },
    {
      "cell_type": "markdown",
      "metadata": {
        "id": "eJJ3FmYuNSyC",
        "colab_type": "text"
      },
      "source": [
        "## Training the model"
      ]
    },
    {
      "cell_type": "code",
      "metadata": {
        "id": "c2AgYxARNWUj",
        "colab_type": "code",
        "colab": {
          "base_uri": "https://localhost:8080/",
          "height": 1000
        },
        "outputId": "89d9cd74-7213-4e3c-cbaa-3da3fc6828d7"
      },
      "source": [
        "history = model.fit(X_train, Y_train, batch_size=10000, epochs=100)"
      ],
      "execution_count": 96,
      "outputs": [
        {
          "output_type": "stream",
          "text": [
            "Train on 60000 samples\n",
            "Epoch 1/100\n",
            "WARNING:tensorflow:Entity <function Function._initialize_uninitialized_variables.<locals>.initialize_variables at 0x7f876c231ea0> could not be transformed and will be executed as-is. Please report this to the AutoGraph team. When filing the bug, set the verbosity to 10 (on Linux, `export AUTOGRAPH_VERBOSITY=10`) and attach the full output. Cause: module 'gast' has no attribute 'Num'\n",
            "WARNING: Entity <function Function._initialize_uninitialized_variables.<locals>.initialize_variables at 0x7f876c231ea0> could not be transformed and will be executed as-is. Please report this to the AutoGraph team. When filing the bug, set the verbosity to 10 (on Linux, `export AUTOGRAPH_VERBOSITY=10`) and attach the full output. Cause: module 'gast' has no attribute 'Num'\n",
            "60000/60000 [==============================] - 1s 15us/sample - loss: 2.2035 - accuracy: 0.2218\n",
            "Epoch 2/100\n",
            "60000/60000 [==============================] - 0s 4us/sample - loss: 1.7400 - accuracy: 0.3007\n",
            "Epoch 3/100\n",
            "60000/60000 [==============================] - 0s 4us/sample - loss: 1.2362 - accuracy: 0.5827\n",
            "Epoch 4/100\n",
            "60000/60000 [==============================] - 0s 4us/sample - loss: 1.0111 - accuracy: 0.6353\n",
            "Epoch 5/100\n",
            "60000/60000 [==============================] - 0s 4us/sample - loss: 0.8478 - accuracy: 0.6981\n",
            "Epoch 6/100\n",
            "60000/60000 [==============================] - 0s 4us/sample - loss: 0.7127 - accuracy: 0.7382\n",
            "Epoch 7/100\n",
            "60000/60000 [==============================] - 0s 4us/sample - loss: 0.6295 - accuracy: 0.7703\n",
            "Epoch 8/100\n",
            "60000/60000 [==============================] - 0s 4us/sample - loss: 0.5710 - accuracy: 0.7924\n",
            "Epoch 9/100\n",
            "60000/60000 [==============================] - 0s 4us/sample - loss: 0.5627 - accuracy: 0.7979\n",
            "Epoch 10/100\n",
            "60000/60000 [==============================] - 0s 4us/sample - loss: 0.5118 - accuracy: 0.8177\n",
            "Epoch 11/100\n",
            "60000/60000 [==============================] - 0s 4us/sample - loss: 0.4873 - accuracy: 0.8271\n",
            "Epoch 12/100\n",
            "60000/60000 [==============================] - 0s 4us/sample - loss: 0.4615 - accuracy: 0.8353\n",
            "Epoch 13/100\n",
            "60000/60000 [==============================] - 0s 4us/sample - loss: 0.4425 - accuracy: 0.8433\n",
            "Epoch 14/100\n",
            "60000/60000 [==============================] - 0s 4us/sample - loss: 0.4377 - accuracy: 0.8433\n",
            "Epoch 15/100\n",
            "60000/60000 [==============================] - 0s 4us/sample - loss: 0.4204 - accuracy: 0.8498\n",
            "Epoch 16/100\n",
            "60000/60000 [==============================] - 0s 4us/sample - loss: 0.4534 - accuracy: 0.8375\n",
            "Epoch 17/100\n",
            "60000/60000 [==============================] - 0s 4us/sample - loss: 0.4206 - accuracy: 0.8497\n",
            "Epoch 18/100\n",
            "60000/60000 [==============================] - 0s 4us/sample - loss: 0.3960 - accuracy: 0.8603\n",
            "Epoch 19/100\n",
            "60000/60000 [==============================] - 0s 4us/sample - loss: 0.3827 - accuracy: 0.8629\n",
            "Epoch 20/100\n",
            "60000/60000 [==============================] - 0s 4us/sample - loss: 0.3724 - accuracy: 0.8662\n",
            "Epoch 21/100\n",
            "60000/60000 [==============================] - 0s 4us/sample - loss: 0.3640 - accuracy: 0.8689\n",
            "Epoch 22/100\n",
            "60000/60000 [==============================] - 0s 4us/sample - loss: 0.3536 - accuracy: 0.8723\n",
            "Epoch 23/100\n",
            "60000/60000 [==============================] - 0s 4us/sample - loss: 0.3459 - accuracy: 0.8753\n",
            "Epoch 24/100\n",
            "60000/60000 [==============================] - 0s 4us/sample - loss: 0.3378 - accuracy: 0.8780\n",
            "Epoch 25/100\n",
            "60000/60000 [==============================] - 0s 4us/sample - loss: 0.3290 - accuracy: 0.8819\n",
            "Epoch 26/100\n",
            "60000/60000 [==============================] - 0s 4us/sample - loss: 0.3363 - accuracy: 0.8778\n",
            "Epoch 27/100\n",
            "60000/60000 [==============================] - 0s 4us/sample - loss: 0.3212 - accuracy: 0.8831\n",
            "Epoch 28/100\n",
            "60000/60000 [==============================] - 0s 3us/sample - loss: 0.3156 - accuracy: 0.8856\n",
            "Epoch 29/100\n",
            "60000/60000 [==============================] - 0s 4us/sample - loss: 0.3073 - accuracy: 0.8888\n",
            "Epoch 30/100\n",
            "60000/60000 [==============================] - 0s 4us/sample - loss: 0.3088 - accuracy: 0.8874\n",
            "Epoch 31/100\n",
            "60000/60000 [==============================] - 0s 4us/sample - loss: 0.2964 - accuracy: 0.8920\n",
            "Epoch 32/100\n",
            "60000/60000 [==============================] - 0s 4us/sample - loss: 0.2917 - accuracy: 0.8944\n",
            "Epoch 33/100\n",
            "60000/60000 [==============================] - 0s 4us/sample - loss: 0.2896 - accuracy: 0.8941\n",
            "Epoch 34/100\n",
            "60000/60000 [==============================] - 0s 4us/sample - loss: 0.2798 - accuracy: 0.8984\n",
            "Epoch 35/100\n",
            "60000/60000 [==============================] - 0s 4us/sample - loss: 0.2791 - accuracy: 0.8981\n",
            "Epoch 36/100\n",
            "60000/60000 [==============================] - 0s 4us/sample - loss: 0.2786 - accuracy: 0.8974\n",
            "Epoch 37/100\n",
            "60000/60000 [==============================] - 0s 4us/sample - loss: 0.2832 - accuracy: 0.8955\n",
            "Epoch 38/100\n",
            "60000/60000 [==============================] - 0s 4us/sample - loss: 0.2639 - accuracy: 0.9039\n",
            "Epoch 39/100\n",
            "60000/60000 [==============================] - 0s 4us/sample - loss: 0.2591 - accuracy: 0.9060\n",
            "Epoch 40/100\n",
            "60000/60000 [==============================] - 0s 4us/sample - loss: 0.2826 - accuracy: 0.8964\n",
            "Epoch 41/100\n",
            "60000/60000 [==============================] - 0s 4us/sample - loss: 0.3639 - accuracy: 0.8663\n",
            "Epoch 42/100\n",
            "60000/60000 [==============================] - 0s 4us/sample - loss: 0.3187 - accuracy: 0.8836\n",
            "Epoch 43/100\n",
            "60000/60000 [==============================] - 0s 4us/sample - loss: 0.2918 - accuracy: 0.8926\n",
            "Epoch 44/100\n",
            "60000/60000 [==============================] - 0s 4us/sample - loss: 0.2700 - accuracy: 0.9003\n",
            "Epoch 45/100\n",
            "60000/60000 [==============================] - 0s 4us/sample - loss: 0.2537 - accuracy: 0.9068\n",
            "Epoch 46/100\n",
            "60000/60000 [==============================] - 0s 4us/sample - loss: 0.2431 - accuracy: 0.9110\n",
            "Epoch 47/100\n",
            "60000/60000 [==============================] - 0s 4us/sample - loss: 0.2366 - accuracy: 0.9126\n",
            "Epoch 48/100\n",
            "60000/60000 [==============================] - 0s 4us/sample - loss: 0.2311 - accuracy: 0.9153\n",
            "Epoch 49/100\n",
            "60000/60000 [==============================] - 0s 4us/sample - loss: 0.2321 - accuracy: 0.9139\n",
            "Epoch 50/100\n",
            "60000/60000 [==============================] - 0s 4us/sample - loss: 0.2228 - accuracy: 0.9181\n",
            "Epoch 51/100\n",
            "60000/60000 [==============================] - 0s 4us/sample - loss: 0.2185 - accuracy: 0.9201\n",
            "Epoch 52/100\n",
            "60000/60000 [==============================] - 0s 3us/sample - loss: 0.2286 - accuracy: 0.9151\n",
            "Epoch 53/100\n",
            "60000/60000 [==============================] - 0s 4us/sample - loss: 0.2181 - accuracy: 0.9182\n",
            "Epoch 54/100\n",
            "60000/60000 [==============================] - 0s 4us/sample - loss: 0.2138 - accuracy: 0.9209\n",
            "Epoch 55/100\n",
            "60000/60000 [==============================] - 0s 4us/sample - loss: 0.2079 - accuracy: 0.9235\n",
            "Epoch 56/100\n",
            "60000/60000 [==============================] - 0s 4us/sample - loss: 0.2007 - accuracy: 0.9259\n",
            "Epoch 57/100\n",
            "60000/60000 [==============================] - 0s 4us/sample - loss: 0.2049 - accuracy: 0.9246\n",
            "Epoch 58/100\n",
            "60000/60000 [==============================] - 0s 4us/sample - loss: 0.2104 - accuracy: 0.9222\n",
            "Epoch 59/100\n",
            "60000/60000 [==============================] - 0s 4us/sample - loss: 0.1973 - accuracy: 0.9272\n",
            "Epoch 60/100\n",
            "60000/60000 [==============================] - 0s 4us/sample - loss: 0.1979 - accuracy: 0.9259\n",
            "Epoch 61/100\n",
            "60000/60000 [==============================] - 0s 4us/sample - loss: 0.1966 - accuracy: 0.9265\n",
            "Epoch 62/100\n",
            "60000/60000 [==============================] - 0s 4us/sample - loss: 0.1912 - accuracy: 0.9287\n",
            "Epoch 63/100\n",
            "60000/60000 [==============================] - 0s 4us/sample - loss: 0.1833 - accuracy: 0.9319\n",
            "Epoch 64/100\n",
            "60000/60000 [==============================] - 0s 4us/sample - loss: 0.1918 - accuracy: 0.9287\n",
            "Epoch 65/100\n",
            "60000/60000 [==============================] - 0s 4us/sample - loss: 0.2075 - accuracy: 0.9207\n",
            "Epoch 66/100\n",
            "60000/60000 [==============================] - 0s 3us/sample - loss: 0.2293 - accuracy: 0.9144\n",
            "Epoch 67/100\n",
            "60000/60000 [==============================] - 0s 4us/sample - loss: 0.2280 - accuracy: 0.9148\n",
            "Epoch 68/100\n",
            "60000/60000 [==============================] - 0s 4us/sample - loss: 0.2056 - accuracy: 0.9239\n",
            "Epoch 69/100\n",
            "60000/60000 [==============================] - 0s 4us/sample - loss: 0.1850 - accuracy: 0.9327\n",
            "Epoch 70/100\n",
            "60000/60000 [==============================] - 0s 4us/sample - loss: 0.1741 - accuracy: 0.9364\n",
            "Epoch 71/100\n",
            "60000/60000 [==============================] - 0s 4us/sample - loss: 0.1746 - accuracy: 0.9363\n",
            "Epoch 72/100\n",
            "60000/60000 [==============================] - 0s 4us/sample - loss: 0.1770 - accuracy: 0.9344\n",
            "Epoch 73/100\n",
            "60000/60000 [==============================] - 0s 3us/sample - loss: 0.1944 - accuracy: 0.9257\n",
            "Epoch 74/100\n",
            "60000/60000 [==============================] - 0s 4us/sample - loss: 0.1861 - accuracy: 0.9300\n",
            "Epoch 75/100\n",
            "60000/60000 [==============================] - 0s 4us/sample - loss: 0.1678 - accuracy: 0.9379\n",
            "Epoch 76/100\n",
            "60000/60000 [==============================] - 0s 4us/sample - loss: 0.1549 - accuracy: 0.9435\n",
            "Epoch 77/100\n",
            "60000/60000 [==============================] - 0s 4us/sample - loss: 0.1554 - accuracy: 0.9430\n",
            "Epoch 78/100\n",
            "60000/60000 [==============================] - 0s 3us/sample - loss: 0.1529 - accuracy: 0.9436\n",
            "Epoch 79/100\n",
            "60000/60000 [==============================] - 0s 4us/sample - loss: 0.1715 - accuracy: 0.9355\n",
            "Epoch 80/100\n",
            "60000/60000 [==============================] - 0s 4us/sample - loss: 0.1519 - accuracy: 0.9446\n",
            "Epoch 81/100\n",
            "60000/60000 [==============================] - 0s 4us/sample - loss: 0.1561 - accuracy: 0.9435\n",
            "Epoch 82/100\n",
            "60000/60000 [==============================] - 0s 4us/sample - loss: 0.1499 - accuracy: 0.9451\n",
            "Epoch 83/100\n",
            "60000/60000 [==============================] - 0s 4us/sample - loss: 0.1454 - accuracy: 0.9467\n",
            "Epoch 84/100\n",
            "60000/60000 [==============================] - 0s 4us/sample - loss: 0.1313 - accuracy: 0.9531\n",
            "Epoch 85/100\n",
            "60000/60000 [==============================] - 0s 4us/sample - loss: 0.1292 - accuracy: 0.9533\n",
            "Epoch 86/100\n",
            "60000/60000 [==============================] - 0s 4us/sample - loss: 0.1212 - accuracy: 0.9565\n",
            "Epoch 87/100\n",
            "60000/60000 [==============================] - 0s 4us/sample - loss: 0.1963 - accuracy: 0.9267\n",
            "Epoch 88/100\n",
            "60000/60000 [==============================] - 0s 4us/sample - loss: 0.1882 - accuracy: 0.9304\n",
            "Epoch 89/100\n",
            "60000/60000 [==============================] - 0s 4us/sample - loss: 0.1957 - accuracy: 0.9302\n",
            "Epoch 90/100\n",
            "60000/60000 [==============================] - 0s 4us/sample - loss: 0.1804 - accuracy: 0.9337\n",
            "Epoch 91/100\n",
            "60000/60000 [==============================] - 0s 4us/sample - loss: 0.1580 - accuracy: 0.9420\n",
            "Epoch 92/100\n",
            "60000/60000 [==============================] - 0s 4us/sample - loss: 0.1491 - accuracy: 0.9446\n",
            "Epoch 93/100\n",
            "60000/60000 [==============================] - 0s 4us/sample - loss: 0.1365 - accuracy: 0.9500\n",
            "Epoch 94/100\n",
            "60000/60000 [==============================] - 0s 4us/sample - loss: 0.1215 - accuracy: 0.9562\n",
            "Epoch 95/100\n",
            "60000/60000 [==============================] - 0s 4us/sample - loss: 0.1128 - accuracy: 0.9596\n",
            "Epoch 96/100\n",
            "60000/60000 [==============================] - 0s 4us/sample - loss: 0.1138 - accuracy: 0.9589\n",
            "Epoch 97/100\n",
            "60000/60000 [==============================] - 0s 4us/sample - loss: 0.1039 - accuracy: 0.9641\n",
            "Epoch 98/100\n",
            "60000/60000 [==============================] - 0s 4us/sample - loss: 0.1031 - accuracy: 0.9630\n",
            "Epoch 99/100\n",
            "60000/60000 [==============================] - 0s 3us/sample - loss: 0.0981 - accuracy: 0.9650\n",
            "Epoch 100/100\n",
            "60000/60000 [==============================] - 0s 4us/sample - loss: 0.0965 - accuracy: 0.9657\n"
          ],
          "name": "stdout"
        }
      ]
    },
    {
      "cell_type": "markdown",
      "metadata": {
        "id": "4jpZYp9MpKzN",
        "colab_type": "text"
      },
      "source": [
        "## Learning Curves"
      ]
    },
    {
      "cell_type": "markdown",
      "metadata": {
        "id": "YHFVHBxma3HG",
        "colab_type": "text"
      },
      "source": [
        "Plotting the accuracy vs epoch curve"
      ]
    },
    {
      "cell_type": "code",
      "metadata": {
        "id": "P9tF_6mbN_Oo",
        "colab_type": "code",
        "colab": {
          "base_uri": "https://localhost:8080/",
          "height": 312
        },
        "outputId": "f6e8db95-530f-4ccf-9f4e-1b8d01df40e8"
      },
      "source": [
        "plt.figure()\n",
        "plt.plot(history.history['accuracy'])\n",
        "plt.title('Model Accuracy')\n",
        "plt.xlabel('No. of Epochs')\n",
        "plt.ylabel('Accuracy')"
      ],
      "execution_count": 97,
      "outputs": [
        {
          "output_type": "execute_result",
          "data": {
            "text/plain": [
              "Text(0, 0.5, 'Accuracy')"
            ]
          },
          "metadata": {
            "tags": []
          },
          "execution_count": 97
        },
        {
          "output_type": "display_data",
          "data": {
            "image/png": "[encoded data removed]",
            "text/plain": [
              "<Figure size 432x288 with 1 Axes>"
            ]
          },
          "metadata": {
            "tags": [],
            "needs_background": "light"
          }
        }
      ]
    },
    {
      "cell_type": "markdown",
      "metadata": {
        "id": "erPHHgDAa8VJ",
        "colab_type": "text"
      },
      "source": [
        "Plotting the error vs epoch curve"
      ]
    },
    {
      "cell_type": "code",
      "metadata": {
        "id": "5d50BaD6bCr1",
        "colab_type": "code",
        "colab": {
          "base_uri": "https://localhost:8080/",
          "height": 312
        },
        "outputId": "6578061a-66b5-4696-9a32-3008620491c9"
      },
      "source": [
        "plt.figure()\n",
        "plt.plot(history.history['loss'])\n",
        "plt.title('Model Loss')\n",
        "plt.xlabel('No. of Epochs')\n",
        "plt.ylabel('Loss')"
      ],
      "execution_count": 98,
      "outputs": [
        {
          "output_type": "execute_result",
          "data": {
            "text/plain": [
              "Text(0, 0.5, 'Loss')"
            ]
          },
          "metadata": {
            "tags": []
          },
          "execution_count": 98
        },
        {
          "output_type": "display_data",
          "data": {
            "image/png": "[encoded data removed]",
            "text/plain": [
              "<Figure size 432x288 with 1 Axes>"
            ]
          },
          "metadata": {
            "tags": [],
            "needs_background": "light"
          }
        }
      ]
    },
    {
      "cell_type": "markdown",
      "metadata": {
        "id": "1IgnGjTFcJpn",
        "colab_type": "text"
      },
      "source": [
        "## Predicting the test results"
      ]
    },
    {
      "cell_type": "code",
      "metadata": {
        "id": "tegQyjYmcOjh",
        "colab_type": "code",
        "colab": {}
      },
      "source": [
        "Y_pred = model.predict_classes(X_test)"
      ],
      "execution_count": 99,
      "outputs": []
    },
    {
      "cell_type": "markdown",
      "metadata": {
        "id": "Cphlk96Ob7zP",
        "colab_type": "text"
      },
      "source": [
        "Accuracy of the model over the test data"
      ]
    },
    {
      "cell_type": "code",
      "metadata": {
        "id": "r0I-1qrqb_Lp",
        "colab_type": "code",
        "colab": {}
      },
      "source": [
        "from sklearn.metrics import accuracy_score"
      ],
      "execution_count": 100,
      "outputs": []
    },
    {
      "cell_type": "code",
      "metadata": {
        "id": "XOyvPTyTmfBy",
        "colab_type": "code",
        "colab": {
          "base_uri": "https://localhost:8080/",
          "height": 34
        },
        "outputId": "685df0fc-b9bd-48ee-ce4a-84f1dc588fd5"
      },
      "source": [
        "print(accuracy_score(Y_pred, Y_test))"
      ],
      "execution_count": 101,
      "outputs": [
        {
          "output_type": "stream",
          "text": [
            "0.8908\n"
          ],
          "name": "stdout"
        }
      ]
    },
    {
      "cell_type": "markdown",
      "metadata": {
        "id": "OimgluIOpanr",
        "colab_type": "text"
      },
      "source": [
        "## Confusion Matrix"
      ]
    },
    {
      "cell_type": "code",
      "metadata": {
        "id": "G-So7RTjpedx",
        "colab_type": "code",
        "colab": {
          "base_uri": "https://localhost:8080/",
          "height": 272
        },
        "outputId": "0f0eafc5-6be1-4dcc-87bf-bea68a0d6045"
      },
      "source": [
        "!pip install mlxtend"
      ],
      "execution_count": 102,
      "outputs": [
        {
          "output_type": "stream",
          "text": [
            "Requirement already satisfied: mlxtend in /usr/local/lib/python3.6/dist-packages (0.14.0)\n",
            "Requirement already satisfied: setuptools in /usr/local/lib/python3.6/dist-packages (from mlxtend) (47.3.1)\n",
            "Requirement already satisfied: pandas>=0.17.1 in /usr/local/lib/python3.6/dist-packages (from mlxtend) (1.0.4)\n",
            "Requirement already satisfied: numpy>=1.10.4 in /usr/local/lib/python3.6/dist-packages (from mlxtend) (1.18.5)\n",
            "Requirement already satisfied: scipy>=0.17 in /usr/local/lib/python3.6/dist-packages (from mlxtend) (1.4.1)\n",
            "Requirement already satisfied: scikit-learn>=0.18 in /usr/local/lib/python3.6/dist-packages (from mlxtend) (0.22.2.post1)\n",
            "Requirement already satisfied: matplotlib>=1.5.1 in /usr/local/lib/python3.6/dist-packages (from mlxtend) (3.2.1)\n",
            "Requirement already satisfied: pytz>=2017.2 in /usr/local/lib/python3.6/dist-packages (from pandas>=0.17.1->mlxtend) (2018.9)\n",
            "Requirement already satisfied: python-dateutil>=2.6.1 in /usr/local/lib/python3.6/dist-packages (from pandas>=0.17.1->mlxtend) (2.8.1)\n",
            "Requirement already satisfied: joblib>=0.11 in /usr/local/lib/python3.6/dist-packages (from scikit-learn>=0.18->mlxtend) (0.15.1)\n",
            "Requirement already satisfied: cycler>=0.10 in /usr/local/lib/python3.6/dist-packages (from matplotlib>=1.5.1->mlxtend) (0.10.0)\n",
            "Requirement already satisfied: pyparsing!=2.0.4,!=2.1.2,!=2.1.6,>=2.0.1 in /usr/local/lib/python3.6/dist-packages (from matplotlib>=1.5.1->mlxtend) (2.4.7)\n",
            "Requirement already satisfied: kiwisolver>=1.0.1 in /usr/local/lib/python3.6/dist-packages (from matplotlib>=1.5.1->mlxtend) (1.2.0)\n",
            "Requirement already satisfied: six>=1.5 in /usr/local/lib/python3.6/dist-packages (from python-dateutil>=2.6.1->pandas>=0.17.1->mlxtend) (1.12.0)\n"
          ],
          "name": "stdout"
        }
      ]
    },
    {
      "cell_type": "code",
      "metadata": {
        "id": "Tip47S_fpon2",
        "colab_type": "code",
        "colab": {}
      },
      "source": [
        "from mlxtend.plotting import plot_confusion_matrix"
      ],
      "execution_count": 104,
      "outputs": []
    },
    {
      "cell_type": "code",
      "metadata": {
        "id": "Txa5ca7kptZ2",
        "colab_type": "code",
        "colab": {}
      },
      "source": [
        "from sklearn.metrics import confusion_matrix"
      ],
      "execution_count": 105,
      "outputs": []
    },
    {
      "cell_type": "code",
      "metadata": {
        "id": "rEmOxHVapz4e",
        "colab_type": "code",
        "colab": {}
      },
      "source": [
        "cm = confusion_matrix(Y_pred, Y_test)"
      ],
      "execution_count": 107,
      "outputs": []
    },
    {
      "cell_type": "code",
      "metadata": {
        "id": "W-PoMbD-qQa_",
        "colab_type": "code",
        "colab": {
          "base_uri": "https://localhost:8080/",
          "height": 530
        },
        "outputId": "5d9fd7b4-004d-41fe-a7b2-b9a5fca72777"
      },
      "source": [
        "plot_confusion_matrix(conf_mat = cm, figsize = (8,8))"
      ],
      "execution_count": 108,
      "outputs": [
        {
          "output_type": "execute_result",
          "data": {
            "text/plain": [
              "(<Figure size 576x576 with 1 Axes>,\n",
              " <matplotlib.axes._subplots.AxesSubplot at 0x7f873c1b34a8>)"
            ]
          },
          "metadata": {
            "tags": []
          },
          "execution_count": 108
        },
        {
          "output_type": "display_data",
          "data": {
            "image/png": "[encoded data removed]",
            "text/plain": [
              "<Figure size 576x576 with 1 Axes>"
            ]
          },
          "metadata": {
            "tags": [],
            "needs_background": "light"
          }
        }
      ]
    }
  ]
}